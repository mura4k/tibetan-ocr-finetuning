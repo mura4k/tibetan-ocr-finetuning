{
 "cells": [
  {
   "cell_type": "code",
   "execution_count": null,
   "id": "initial_id",
   "metadata": {
    "ExecuteTime": {
     "end_time": "2024-05-23T09:31:22.461698Z",
     "start_time": "2024-05-23T09:31:18.504735Z"
    },
    "collapsed": true
   },
   "outputs": [],
   "source": [
    "import os\n",
    "import torch\n",
    "import logging\n",
    "import numpy as np\n",
    "from zipfile import ZipFile\n",
    "from BudaOCR.Config import CHARSET\n",
    "from huggingface_hub import snapshot_download\n",
    "from BudaOCR.Modules import EasterNetwork, OCRTrainer, WylieEncoder, StackEncoder\n",
    "from BudaOCR.Utils import shuffle_data, create_dir, read_stack_file, build_data_paths, accumulate_distributions, build_distribution_from_file\n",
    "\n",
    "\n",
    "logging.getLogger().setLevel(logging.INFO)\n",
    "print(torch.__version__)\n",
    "torch.cuda.empty_cache()"
   ]
  },
  {
   "cell_type": "code",
   "execution_count": null,
   "id": "84e72549cc5c70ce",
   "metadata": {
    "ExecuteTime": {
     "end_time": "2024-05-23T09:31:22.470493Z",
     "start_time": "2024-05-23T09:31:22.464654Z"
    },
    "collapsed": false
   },
   "outputs": [],
   "source": [
    "wylie_encoder = WylieEncoder(CHARSET)\n",
    "\n",
    "stack_file = f\"tib-stacks.txt\"\n",
    "stacks = read_stack_file(stack_file)\n",
    "stack_encoder = StackEncoder(stacks)\n",
    "\n",
    "print(stack_encoder.num_classes())\n",
    "print(wylie_encoder.num_classes())"
   ]
  },
  {
   "cell_type": "markdown",
   "id": "a5047170",
   "metadata": {},
   "source": [
    "#### Train from single Dataset"
   ]
  },
  {
   "cell_type": "code",
   "execution_count": null,
   "id": "196cf604",
   "metadata": {},
   "outputs": [],
   "source": [
    "data_path = snapshot_download(repo_id=\"BDRC/Karmapa8\", repo_type=\"dataset\",  cache_dir=\"Datasets\")\n",
    "\n",
    "with ZipFile(f\"{data_path}/data.zip\", 'r') as zip:\n",
    "    zip.extractall(f\"{data_path}/Dataset\")\n",
    "\n",
    "dataset_path = f\"{data_path}/Dataset\"\n",
    "image_paths, label_paths = build_data_paths(dataset_path)\n",
    "image_paths, label_paths = shuffle_data(image_paths, label_paths)\n",
    "\n",
    "print(f\"Images: {len(image_paths)}, Labels: {len(label_paths)}\")\n",
    "\n",
    "output_dir = os.path.join(\"Output\")\n",
    "create_dir(output_dir)"
   ]
  },
  {
   "cell_type": "code",
   "execution_count": null,
   "id": "6f103c1f",
   "metadata": {},
   "outputs": [],
   "source": [
    "output_dir = os.path.join(dataset_path, \"Output\")\n",
    "create_dir(output_dir)\n",
    "\n",
    "image_width = 3200\n",
    "image_height = 100\n",
    "encoder = wylie_encoder\n",
    "num_classes = encoder.num_classes()\n",
    "\n",
    "network = EasterNetwork(num_classes=num_classes, image_width=image_width, image_height=image_height, mean_pooling=True)\n",
    "workers = 4\n",
    "\n",
    "ocr_trainer = OCRTrainer(\n",
    "    network=network,\n",
    "    label_encoder=encoder,\n",
    "    workers=workers, \n",
    "    image_width=image_width,\n",
    "    image_height=image_height,\n",
    "    batch_size=16, \n",
    "    output_dir=output_dir, \n",
    "    preload_labels=True)\n",
    "\n",
    "ocr_trainer.init(image_paths, label_paths)"
   ]
  },
  {
   "cell_type": "code",
   "execution_count": null,
   "id": "7d5e4aca",
   "metadata": {},
   "outputs": [],
   "source": [
    "num_epochs = 2\n",
    "scheduler_start = 2\n",
    "\n",
    "ocr_trainer.train(epochs=num_epochs, scheduler_start=scheduler_start, check_cer=True, export_onnx=True, silent=True)"
   ]
  },
  {
   "cell_type": "markdown",
   "id": "2cd319ed",
   "metadata": {},
   "source": [
    "#### Evaluate on Test set"
   ]
  },
  {
   "cell_type": "code",
   "execution_count": null,
   "id": "aa564acf",
   "metadata": {},
   "outputs": [],
   "source": [
    "cer_scores = ocr_trainer.evaluate()\n",
    "cer_values = list(cer_scores.values())\n",
    "\n",
    "score_file = os.path.join(ocr_trainer.output_dir, \"cer_scores.txt\")\n",
    "\n",
    "with open(score_file, \"w\", encoding=\"utf-8\") as f:\n",
    "    for sample, value in cer_scores.items():\n",
    "        f.write(f\"{sample} - {value}\\n\")\n",
    "\n",
    "cer_summary_file = os.path.join(ocr_trainer.output_dir, \"cer_summary.txt\")\n",
    "\n",
    "mean_cer = np.mean(cer_values)\n",
    "max_cer = np.max(cer_values)\n",
    "min_cer = np.min(cer_values)\n",
    "\n",
    "with open(cer_summary_file, \"w\", encoding=\"utf-8\") as f:\n",
    "    f.write(f\"Mean CER: {mean_cer}\\n\")\n",
    "    f.write(f\"Max CER: {max_cer}\\n\")\n",
    "    f.write(f\"Min CER: {min_cer}\")\n",
    "\n",
    "\n",
    "print(f\"Mean CER: {mean_cer}\")\n",
    "print(f\"Max CER: {max_cer}\")\n",
    "print(f\"Min CER: {min_cer}\")"
   ]
  },
  {
   "cell_type": "markdown",
   "id": "5714a314",
   "metadata": {},
   "source": [
    "#### Train from Distribution file"
   ]
  },
  {
   "cell_type": "code",
   "execution_count": 3,
   "id": "801337fe",
   "metadata": {},
   "outputs": [],
   "source": [
    "dataset_path = \"../Data/Karmapa8\"\n",
    "distr_file = f\"{dataset_path}/data.distribution\"\n",
    "distribution = build_distribution_from_file(distr_file, dataset_path)"
   ]
  },
  {
   "cell_type": "code",
   "execution_count": null,
   "id": "1787c9af",
   "metadata": {},
   "outputs": [],
   "source": [
    "output_dir = os.path.join(dataset_path, \"Output\")\n",
    "create_dir(output_dir)\n",
    "\n",
    "image_width = 3200\n",
    "image_height = 100\n",
    "encoder = wylie_encoder\n",
    "num_classes = encoder.num_classes()\n",
    "\n",
    "network = EasterNetwork(num_classes=num_classes, image_width=image_width, image_height=image_height, mean_pooling=True)\n",
    "workers = 4\n",
    "\n",
    "ocr_trainer = OCRTrainer(\n",
    "    network=network,\n",
    "    label_encoder=encoder,\n",
    "    workers=workers, \n",
    "    image_width=image_width,\n",
    "    image_height=image_height,\n",
    "    batch_size=16, \n",
    "    output_dir=output_dir, \n",
    "    preload_labels=True\n",
    "    )\n",
    "\n",
    "ocr_trainer.init_from_distribution(distribution)"
   ]
  },
  {
   "cell_type": "code",
   "execution_count": null,
   "id": "b389e439",
   "metadata": {},
   "outputs": [],
   "source": [
    "# adjust values as needed\n",
    "num_epochs = 4\n",
    "scheduler_start = 2\n",
    "ocr_trainer.train(epochs=num_epochs, scheduler_start=scheduler_start, check_cer=True, export_onnx=True, silent=True)"
   ]
  },
  {
   "cell_type": "code",
   "execution_count": null,
   "id": "b04833f4",
   "metadata": {},
   "outputs": [],
   "source": [
    "# run evaluation\n",
    "cer_scores = ocr_trainer.evaluate()\n",
    "cer_values = list(cer_scores.values())\n",
    "\n",
    "score_file = os.path.join(ocr_trainer.output_dir, \"cer_scores.txt\")\n",
    "\n",
    "with open(score_file, \"w\", encoding=\"utf-8\") as f:\n",
    "    for sample, value in cer_scores.items():\n",
    "        f.write(f\"{sample} - {value}\\n\")\n",
    "\n",
    "cer_summary_file = os.path.join(ocr_trainer.output_dir, \"cer_summary.txt\")\n",
    "\n",
    "mean_cer = np.mean(cer_values)\n",
    "max_cer = np.max(cer_values)\n",
    "min_cer = np.min(cer_values)\n",
    "\n",
    "with open(cer_summary_file, \"w\", encoding=\"utf-8\") as f:\n",
    "    f.write(f\"Mean CER: {mean_cer}\\n\")\n",
    "    f.write(f\"Max CER: {max_cer}\\n\")\n",
    "    f.write(f\"Min CER: {min_cer}\")\n",
    "\n",
    "\n",
    "print(f\"Mean CER: {mean_cer}\")\n",
    "print(f\"Max CER: {max_cer}\")\n",
    "print(f\"Min CER: {min_cer}\")"
   ]
  },
  {
   "cell_type": "markdown",
   "id": "92d544da",
   "metadata": {},
   "source": [
    "#### Train from multiple distributions"
   ]
  },
  {
   "cell_type": "code",
   "execution_count": 3,
   "id": "048bf592",
   "metadata": {},
   "outputs": [],
   "source": [
    "data_root = \"../Data\"\n",
    "distributions = [\"DergeTenjur\", \"LhasaKanjur\", \"Karmapa8\", \"LithangKanjur\"]"
   ]
  },
  {
   "cell_type": "code",
   "execution_count": null,
   "id": "7cab82cc",
   "metadata": {},
   "outputs": [],
   "source": [
    "distribution = accumulate_distributions(data_root, distributions)"
   ]
  },
  {
   "cell_type": "code",
   "execution_count": null,
   "id": "faed210c",
   "metadata": {},
   "outputs": [],
   "source": [
    "output_dir = \"Output\"\n",
    "create_dir(output_dir)\n",
    "\n",
    "image_width = 3200\n",
    "image_height = 100\n",
    "encoder = wylie_encoder\n",
    "num_classes = encoder.num_classes()\n",
    "\n",
    "network = EasterNetwork(num_classes=num_classes, image_width=image_width, image_height=image_height, mean_pooling=True)\n",
    "workers = 4\n",
    "\n",
    "ocr_trainer = OCRTrainer(\n",
    "    network=network,\n",
    "    label_encoder=encoder,\n",
    "    workers=workers, \n",
    "    image_width=image_width,\n",
    "    image_height=image_height,\n",
    "    batch_size=32, \n",
    "    output_dir=output_dir, \n",
    "    preload_labels=True\n",
    "    )\n",
    "\n",
    "ocr_trainer.init_from_distribution(distribution)"
   ]
  },
  {
   "cell_type": "code",
   "execution_count": null,
   "id": "b440fb94",
   "metadata": {},
   "outputs": [],
   "source": [
    "num_epochs = 4\n",
    "scheduler_start = 2\n",
    "ocr_trainer.train(epochs=num_epochs, scheduler_start=scheduler_start, check_cer=True, export_onnx=True, silent=False)"
   ]
  }
 ],
 "metadata": {
  "kernelspec": {
   "display_name": ".venv",
   "language": "python",
   "name": "python3"
  },
  "language_info": {
   "codemirror_mode": {
    "name": "ipython",
    "version": 3
   },
   "file_extension": ".py",
   "mimetype": "text/x-python",
   "name": "python",
   "nbconvert_exporter": "python",
   "pygments_lexer": "ipython3",
   "version": "3.12.3"
  }
 },
 "nbformat": 4,
 "nbformat_minor": 5
}
