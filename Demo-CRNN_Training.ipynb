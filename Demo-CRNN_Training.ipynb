{
 "cells": [
  {
   "cell_type": "code",
   "execution_count": null,
   "metadata": {},
   "outputs": [],
   "source": [
    "import os\n",
    "import torch\n",
    "import logging\n",
    "import numpy as np\n",
    "from zipfile import ZipFile\n",
    "from BudaOCR.Config import CHARSET\n",
    "from huggingface_hub import snapshot_download\n",
    "from BudaOCR.Modules import CRNNNetwork, OCRTrainer, WylieEncoder, StackEncoder\n",
    "from BudaOCR.Utils import shuffle_data, create_dir, build_data_paths, build_distribution_from_file, read_stack_file\n",
    "logging.getLogger().setLevel(logging.INFO)\n",
    "\n",
    "torch.cuda.empty_cache()\n",
    "print(torch.__version__)"
   ]
  },
  {
   "cell_type": "code",
   "execution_count": null,
   "metadata": {},
   "outputs": [],
   "source": [
    "stack_file = f\"tib-stacks.txt\"\n",
    "stacks = read_stack_file(stack_file)\n",
    "stack_encoder = StackEncoder(stacks)\n",
    "wylie_encoder = WylieEncoder(CHARSET)"
   ]
  },
  {
   "cell_type": "code",
   "execution_count": null,
   "metadata": {},
   "outputs": [],
   "source": [
    "data_path = snapshot_download(repo_id=\"BDRC/Karmapa8\", repo_type=\"dataset\",  cache_dir=\"Datasets\")\n",
    "\n",
    "with ZipFile(f\"{data_path}/data.zip\", 'r') as zip:\n",
    "    zip.extractall(f\"{data_path}/Dataset\")\n",
    "\n",
    "dataset_path = f\"{data_path}/Dataset\"\n",
    "image_paths, label_paths = build_data_paths(dataset_path)\n",
    "image_paths, label_paths = shuffle_data(image_paths, label_paths)\n",
    "\n",
    "print(f\"Images: {len(image_paths)}, Labels: {len(label_paths)}\")"
   ]
  },
  {
   "cell_type": "code",
   "execution_count": null,
   "metadata": {},
   "outputs": [],
   "source": [
    "output_dir = \"Output\"\n",
    "create_dir(output_dir)\n",
    "\n",
    "image_width = 3200\n",
    "image_height = 100\n",
    "num_classes = wylie_encoder.num_classes()\n",
    "\n",
    "network = CRNNNetwork(image_width=image_width, image_height=image_height, num_classes=num_classes)\n",
    "workers = 4\n",
    "\n",
    "ocr_trainer = OCRTrainer(\n",
    "    network=network,\n",
    "    label_encoder=wylie_encoder,\n",
    "    workers=workers, \n",
    "    image_width=image_width,\n",
    "    image_height=image_height,\n",
    "    batch_size=12, \n",
    "    output_dir=output_dir, \n",
    "    preload_labels=True\n",
    "    )\n",
    "\n",
    "\n",
    "ocr_trainer.init(image_paths, label_paths)\n",
    "ocr_trainer.train(epochs=48, check_cer=True, export_onnx=True)"
   ]
  },
  {
   "cell_type": "markdown",
   "metadata": {},
   "source": [
    "#### Train from fixed Distribution"
   ]
  },
  {
   "cell_type": "code",
   "execution_count": null,
   "metadata": {},
   "outputs": [],
   "source": [
    "distr_file = f\"{data_path}/data.distribution\"\n",
    "distribution = build_distribution_from_file(distr_file, dataset_path)\n",
    "\n",
    "image_width = 3200\n",
    "image_height = 100\n",
    "num_classes = wylie_encoder.num_classes()\n",
    "\n",
    "network = CRNNNetwork(num_classes=num_classes, image_width=image_width, image_height=image_height)\n",
    "\n",
    "workers = 4\n",
    "\n",
    "ocr_trainer = OCRTrainer(\n",
    "    network=network,\n",
    "    label_encoder=wylie_encoder,\n",
    "    workers=workers, \n",
    "    image_width=image_width,\n",
    "    image_height=image_height,\n",
    "    batch_size=16, \n",
    "    output_dir=output_dir, \n",
    "    preload_labels=True\n",
    "    )\n",
    "\n",
    "ocr_trainer.init_from_distribution(distribution)"
   ]
  },
  {
   "cell_type": "code",
   "execution_count": null,
   "metadata": {},
   "outputs": [],
   "source": [
    "num_epochs = 80\n",
    "scheduler_start = 62\n",
    "ocr_trainer.train(epochs=num_epochs, scheduler_start=scheduler_start, check_cer=True, export_onnx=True, silent=True)"
   ]
  },
  {
   "cell_type": "markdown",
   "metadata": {},
   "source": [
    "#### Evaluate on Test set"
   ]
  },
  {
   "cell_type": "code",
   "execution_count": null,
   "metadata": {},
   "outputs": [],
   "source": [
    "cer_scores = ocr_trainer.evaluate()\n",
    "cer_values = list(cer_scores.values())\n",
    "\n",
    "score_file = os.path.join(ocr_trainer.output_dir, \"cer_scores.txt\")\n",
    "\n",
    "with open(score_file, \"w\", encoding=\"utf-8\") as f:\n",
    "    for sample, value in cer_scores.items():\n",
    "        f.write(f\"{sample} - {value}\\n\")\n",
    "\n",
    "cer_summary_file = os.path.join(ocr_trainer.output_dir, \"cer_summary.txt\")\n",
    "\n",
    "mean_cer = np.mean(cer_values)\n",
    "max_cer = np.max(cer_values)\n",
    "min_cer = np.min(cer_values)\n",
    "\n",
    "with open(cer_summary_file, \"w\", encoding=\"utf-8\") as f:\n",
    "    f.write(f\"Mean CER: {mean_cer}\\n\")\n",
    "    f.write(f\"Max CER: {max_cer}\\n\")\n",
    "    f.write(f\"Min CER: {min_cer}\")"
   ]
  }
 ],
 "metadata": {
  "kernelspec": {
   "display_name": ".venv",
   "language": "python",
   "name": "python3"
  },
  "language_info": {
   "codemirror_mode": {
    "name": "ipython",
    "version": 3
   },
   "file_extension": ".py",
   "mimetype": "text/x-python",
   "name": "python",
   "nbconvert_exporter": "python",
   "pygments_lexer": "ipython3",
   "version": "3.11.9"
  }
 },
 "nbformat": 4,
 "nbformat_minor": 2
}
