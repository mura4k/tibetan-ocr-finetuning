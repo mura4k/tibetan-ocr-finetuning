{
 "cells": [
  {
   "cell_type": "code",
   "execution_count": null,
   "metadata": {},
   "outputs": [],
   "source": [
    "import os\n",
    "import torch\n",
    "import logging\n",
    "import numpy as np\n",
    "from zipfile import ZipFile\n",
    "from huggingface_hub import snapshot_download\n",
    "from BudaOCR.Modules import EasterNetwork, OCRTrainer, WylieEncoder\n",
    "from BudaOCR.Utils import create_dir, shuffle_data, build_data_paths, read_ctc_model_config\n",
    "\n",
    "\n",
    "logging.getLogger().setLevel(logging.INFO)\n",
    "print(torch.__version__)\n",
    "torch.cuda.empty_cache()"
   ]
  },
  {
   "cell_type": "code",
   "execution_count": null,
   "metadata": {},
   "outputs": [],
   "source": [
    "data_path = snapshot_download(repo_id=\"BDRC/Karmapa8\", repo_type=\"dataset\",  cache_dir=\"Datasets\")\n",
    "\n",
    "with ZipFile(f\"{data_path}/data.zip\", 'r') as zip:\n",
    "    zip.extractall(f\"{data_path}/Dataset\")\n",
    "\n",
    "dataset_path = f\"{data_path}/Dataset\"\n",
    "image_paths, label_paths = build_data_paths(dataset_path)\n",
    "image_paths, label_paths = shuffle_data(image_paths, label_paths)\n",
    "\n",
    "print(f\"Images: {len(image_paths)}, Labels: {len(label_paths)}\")"
   ]
  },
  {
   "cell_type": "code",
   "execution_count": null,
   "metadata": {},
   "outputs": [],
   "source": [
    "model_path = snapshot_download(repo_id=\"BDRC/BigUCHAN_v1\", repo_type=\"model\",  cache_dir=\"Models\")"
   ]
  },
  {
   "cell_type": "code",
   "execution_count": 4,
   "metadata": {},
   "outputs": [],
   "source": [
    "model_config = f\"{model_path}/config.json\"\n",
    "ctc_config = read_ctc_model_config(model_config)\n",
    "label_encoder = WylieEncoder(ctc_config.charset)\n",
    "num_classes = label_encoder.num_classes()\n",
    "\n",
    "image_width = ctc_config.input_width\n",
    "image_height = ctc_config.input_height\n",
    "\n",
    "output_dir = \"Output\"\n",
    "create_dir(output_dir)"
   ]
  },
  {
   "cell_type": "code",
   "execution_count": null,
   "metadata": {},
   "outputs": [],
   "source": [
    "network = EasterNetwork(num_classes=num_classes, image_width=ctc_config.input_width, image_height=ctc_config.input_height, mean_pooling=True)\n",
    "workers = 4\n",
    "batch_size = 32\n",
    "\n",
    "checkpoint_path = f\"{model_path}/BigUCHAN_E_v1.pth\"\n",
    "#network.load_model(checkpoint_path) # just load the weights\n",
    "network.fine_tune(checkpoint_path) # load weights and freeze parts of the network"
   ]
  },
  {
   "cell_type": "code",
   "execution_count": null,
   "metadata": {},
   "outputs": [],
   "source": [
    "ocr_trainer = OCRTrainer(\n",
    "    network=network,\n",
    "    label_encoder=label_encoder,\n",
    "    workers=workers, \n",
    "    image_width=ctc_config.input_width,\n",
    "    image_height=ctc_config.input_height,\n",
    "    batch_size=batch_size, \n",
    "    output_dir=output_dir, \n",
    "    preload_labels=True\n",
    "    )\n",
    "ocr_trainer.init(image_paths, label_paths)\n",
    "\n",
    "# adjust number of epochs and scheduler start based on the dataset size, smaller datasets require more epochs\n",
    "ocr_trainer.train(epochs=64, check_cer=True, export_onnx=True)"
   ]
  },
  {
   "cell_type": "markdown",
   "metadata": {},
   "source": [
    "#### Evaluate Test Set"
   ]
  },
  {
   "cell_type": "code",
   "execution_count": null,
   "metadata": {},
   "outputs": [],
   "source": [
    "cer_scores = ocr_trainer.evaluate()\n",
    "cer_values = list(cer_scores.values())\n",
    "\n",
    "score_file = os.path.join(ocr_trainer.output_dir, \"cer_scores.txt\")\n",
    "\n",
    "with open(score_file, \"w\", encoding=\"utf-8\") as f:\n",
    "    for sample, value in cer_scores.items():\n",
    "        f.write(f\"{sample} - {value}\\n\")\n",
    "\n",
    "cer_summary_file = os.path.join(ocr_trainer.output_dir, \"cer_summary.txt\")\n",
    "\n",
    "mean_cer = np.mean(cer_values)\n",
    "max_cer = np.max(cer_values)\n",
    "min_cer = np.min(cer_values)\n",
    "\n",
    "with open(cer_summary_file, \"w\", encoding=\"utf-8\") as f:\n",
    "    f.write(f\"Mean CER: {mean_cer}\\n\")\n",
    "    f.write(f\"Max CER: {max_cer}\\n\")\n",
    "    f.write(f\"Min CER: {min_cer}\")"
   ]
  },
  {
   "cell_type": "code",
   "execution_count": null,
   "metadata": {},
   "outputs": [],
   "source": [
    "# export explicitly to onnx\n",
    "network.export_onnx(out_dir=f\"{ocr_trainer.output_dir}\", model_name=\"OCRModel\")"
   ]
  }
 ],
 "metadata": {
  "kernelspec": {
   "display_name": ".venv",
   "language": "python",
   "name": "python3"
  },
  "language_info": {
   "codemirror_mode": {
    "name": "ipython",
    "version": 3
   },
   "file_extension": ".py",
   "mimetype": "text/x-python",
   "name": "python",
   "nbconvert_exporter": "python",
   "pygments_lexer": "ipython3",
   "version": "3.11.9"
  }
 },
 "nbformat": 4,
 "nbformat_minor": 2
}
